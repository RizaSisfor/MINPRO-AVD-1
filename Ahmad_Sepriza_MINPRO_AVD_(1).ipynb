{
  "nbformat": 4,
  "nbformat_minor": 0,
  "metadata": {
    "colab": {
      "provenance": []
    },
    "kernelspec": {
      "name": "python3",
      "display_name": "Python 3"
    },
    "language_info": {
      "name": "python"
    }
  },
  "cells": [
    {
      "cell_type": "markdown",
      "source": [
        "# **Business Objective**"
      ],
      "metadata": {
        "id": "tFb11UE7YAgx"
      }
    },
    {
      "cell_type": "markdown",
      "source": [
        "Dalam era digital yang semakin berkembang, opini dan sentimen yang tersebar di media sosial memiliki peran penting dalam membentuk citra suatu merek, memengaruhi keputusan bisnis, dan menentukan strategi pemasaran. Social Media Sentiment Analysis bertujuan untuk memahami pola sentimen publik terhadap suatu topik, produk, layanan, atau merek dengan menganalisis data dari berbagai platform media sosial."
      ],
      "metadata": {
        "id": "3E-HD25hYXM9"
      }
    },
    {
      "cell_type": "markdown",
      "source": [
        "# **Assess Situation**"
      ],
      "metadata": {
        "id": "m13R9G_qZ7oG"
      }
    },
    {
      "cell_type": "markdown",
      "source": [
        "media sosial menjadi platform utama bagi pengguna untuk berbagi pendapat, pengalaman, dan emosi mereka terhadap berbagai topik, termasuk merek, produk, dan layanan. Perusahaan semakin menyadari bahwa opini publik yang tersebar di media sosial dapat memengaruhi reputasi bisnis, loyalitas pelanggan, dan bahkan keputusan pembelian. Oleh karena itu, analisis sentimen media sosial menjadi elemen penting dalam memahami bagaimana audiens bereaksi terhadap suatu merek atau tren tertentu."
      ],
      "metadata": {
        "id": "ihCYVb4uaK31"
      }
    },
    {
      "cell_type": "markdown",
      "source": [
        "# **Data Mining Goals**"
      ],
      "metadata": {
        "id": "p8M01ivibKrG"
      }
    },
    {
      "cell_type": "markdown",
      "source": [
        "Salah satu aspek penting dalam analisis ini adalah klasifikasi sentimen, di mana teks dari media sosial dikategorikan sebagai positif, negatif, atau netral. Dengan teknik Natural Language Processing (NLP), model data mining dapat mendeteksi emosi dan opini dari berbagai ungkapan bahasa, bahkan yang mengandung sarkasme atau konteks yang lebih kompleks. Selain itu, analisis ini memungkinkan identifikasi pola dan tren sentimen yang dapat membantu dalam mengevaluasi keberhasilan kampanye pemasaran, peluncuran produk, atau dampak suatu kejadian tertentu terhadap opini publik."
      ],
      "metadata": {
        "id": "zKJDbYQKbPGN"
      }
    },
    {
      "cell_type": "markdown",
      "source": [
        "# **Project Plan**"
      ],
      "metadata": {
        "id": "DrU01S9ecEtL"
      }
    },
    {
      "cell_type": "markdown",
      "source": [
        "1. Mengumpulkan Data\n",
        "Pada tahap ini, data akan dikumpulkan dari berbagai sumber media sosial seperti Twitter, Facebook, atau dataset publik. Pengumpulan dapat dilakukan melalui API atau scraping dengan mempertimbangkan aspek legalitas dan etika data.\n",
        "\n",
        "2. Describe Data\n",
        "Setelah data terkumpul, tahap ini bertujuan untuk memahami struktur dan karakteristik data. Analisis deskriptif akan dilakukan untuk mengidentifikasi jumlah data, distribusi, serta fitur-fitur yang tersedia seperti teks unggahan, tanggal, dan interaksi pengguna.\n",
        "\n",
        "3. Verify Data Quality\n",
        "Data yang telah dikumpulkan perlu diverifikasi untuk memastikan kualitasnya. Proses ini mencakup pengecekan data yang hilang, duplikasi, serta validitas data. Jika ditemukan data yang kurang berkualitas, akan dilakukan proses pembersihan seperti menghapus noise atau melengkapi informasi yang hilang.\n",
        "\n",
        "4. Exploratory Data Analysis (EDA)\n",
        "Tahap eksplorasi data bertujuan untuk memahami pola dalam dataset sebelum membangun model prediksi. Visualisasi data seperti word cloud, distribusi sentimen, dan hubungan antara variabel akan dilakukan. Analisis ini membantu dalam menentukan teknik yang paling sesuai untuk membangun model sentimen."
      ],
      "metadata": {
        "id": "aSCCly8RcLU0"
      }
    }
  ]
}